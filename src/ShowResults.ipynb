{
 "cells": [
  {
   "cell_type": "markdown",
   "id": "9028e09c",
   "metadata": {},
   "source": [
    "#Show tables "
   ]
  },
  {
   "cell_type": "code",
   "execution_count": 26,
   "id": "074b9a05",
   "metadata": {},
   "outputs": [
    {
     "name": "stdout",
     "output_type": "stream",
     "text": [
      "\\begin{tabular}{r|ccccccccc}\n",
      "\t& Bib & Inst & Var & Const & DomConst & CoverI & Nodes & Gap & CPU\\\\\n",
      "\t\\hline\n",
      "\t& String & String & Int64 & Int64 & Int64 & Int64 & Int64 & Float64 & Float64\\\\\n",
      "\t\\hline\n",
      "\t1 & 367positions & scenario\\_1.dat & 133492 & 412602 & 15 & 33 & 7482 & 20.79 & 100.03 \\\\\n",
      "\\end{tabular}\n"
     ]
    },
    {
     "data": {
      "text/plain": [
       "14"
      ]
     },
     "execution_count": 26,
     "metadata": {},
     "output_type": "execute_result"
    }
   ],
   "source": [
    "using CSV\n",
    "using DataFrames\n",
    "df = DataFrame(CSV.File(\"Expes/674/Results/IntResults.csv\"))\n",
    "show(stdout, MIME(\"text/latex\"), df)"
   ]
  },
  {
   "cell_type": "code",
   "execution_count": 54,
   "id": "8d67eac1",
   "metadata": {},
   "outputs": [
    {
     "name": "stdout",
     "output_type": "stream",
     "text": [
      "\\begin{tabular}{r|ccccccccc}\n",
      "\t& Bib & Inst & Var & Const & DomConst & CoverI & Nodes & Gap & CPU\\\\\n",
      "\t\\hline\n",
      "\t& String & String & Int64 & Int64 & Int64 & Int64 & Int64 & Float64 & Float64\\\\\n",
      "\t\\hline\n",
      "\t1 & 367positions & scenario\\_1.dat & 133492 & 412602 & 15 & 1 & 77578 & 17.77 & 798.43 \\\\\n",
      "\t2 & 367positions & scenario\\_10.dat & 158657 & 489843 & 13 & 1 & 137152 & 27.0 & 1545.93 \\\\\n",
      "\t3 & 367positions & scenario\\_2.dat & 158502 & 489368 & 14 & 1 & 212386 & 12.69 & 1309.79 \\\\\n",
      "\t4 & 367positions & scenario\\_3.dat & 165265 & 510121 & 14 & 0 & 6371 & 11.87 & 458.09 \\\\\n",
      "\t5 & 367positions & scenario\\_4.dat & 120865 & 373775 & 13 & 5 & 72288 & 22.17 & 710.42 \\\\\n",
      "\t6 & 367positions & scenario\\_5.dat & 165320 & 510286 & 14 & 0 & 6843 & 23.72 & 295.23 \\\\\n",
      "\t7 & 367positions & scenario\\_6.dat & 158200 & 488442 & 13 & 1 & 39308 & 22.82 & 678.8 \\\\\n",
      "\t8 & 367positions & scenario\\_7.dat & 109793 & 339771 & 17 & 0 & 17593 & 19.79 & 459.74 \\\\\n",
      "\t9 & 367positions & scenario\\_8.dat & 133492 & 412602 & 15 & 0 & 53719 & 17.77 & 689.72 \\\\\n",
      "\t10 & 367positions & scenario\\_9.dat & 105839 & 327573 & 14 & 2 & 9035 & 11.4 & 388.99 \\\\\n",
      "\\end{tabular}\n"
     ]
    },
    {
     "data": {
      "text/plain": [
       "14"
      ]
     },
     "execution_count": 54,
     "metadata": {},
     "output_type": "execute_result"
    }
   ],
   "source": [
    "using CSV\n",
    "using DataFrames\n",
    "df = DataFrame(CSV.File(\"Expes/674/Results/results.csv\"))\n",
    "df1=select!(df, Not(:Obj))\n",
    "df2=select!(df1, Not(:Opt))\n",
    "show(stdout, MIME(\"text/latex\"), df2)"
   ]
  },
  {
   "cell_type": "code",
   "execution_count": 55,
   "id": "995db120",
   "metadata": {},
   "outputs": [
    {
     "data": {
      "text/plain": [
       "\"\\textbf{Average} & \\textbf{-} & \\textbf{-} & \\textbf{140942.5} & \\textbf{435438.3} & \\textbf{14.2} & \\textbf{1.1} & \\textbf{63227.3} & \\textbf{18.7} & \\textbf{733.51} \\\\ \""
      ]
     },
     "execution_count": 55,
     "metadata": {},
     "output_type": "execute_result"
    }
   ],
   "source": [
    "using Statistics\n",
    "avg=[try round(mean(c),digits=2)\n",
    "    catch \n",
    "        \"-\"\n",
    "    end \n",
    "    for c in eachcol(df)]\n",
    "ch=\"\\textbf{Average}\" *\" & \"\n",
    "for i in 1:length(avg)\n",
    "    if i!=length(avg)\n",
    "        ch=ch*\"\\textbf{\"*string(avg[i])*\"} & \"\n",
    "    else \n",
    "        ch=ch*\"\\textbf{\"*string(avg[i])*\"} \\\\ \"\n",
    "    end \n",
    "end \n",
    "ch"
   ]
  },
  {
   "cell_type": "code",
   "execution_count": 23,
   "id": "bf042050",
   "metadata": {},
   "outputs": [
    {
     "data": {
      "text/plain": [
       "\"1, 2, 3, 4, 5\""
      ]
     },
     "execution_count": 23,
     "metadata": {},
     "output_type": "execute_result"
    }
   ],
   "source": [
    "com"
   ]
  },
  {
   "cell_type": "code",
   "execution_count": 14,
   "id": "1c12c6c3",
   "metadata": {},
   "outputs": [
    {
     "data": {
      "text/plain": [
       "\"1\""
      ]
     },
     "execution_count": 14,
     "metadata": {},
     "output_type": "execute_result"
    }
   ],
   "source": [
    "string(1)"
   ]
  },
  {
   "cell_type": "code",
   "execution_count": null,
   "id": "97e74bc3",
   "metadata": {},
   "outputs": [],
   "source": []
  }
 ],
 "metadata": {
  "kernelspec": {
   "display_name": "Julia 1.6.1",
   "language": "julia",
   "name": "julia-1.6"
  },
  "language_info": {
   "file_extension": ".jl",
   "mimetype": "application/julia",
   "name": "julia",
   "version": "1.6.1"
  }
 },
 "nbformat": 4,
 "nbformat_minor": 5
}
