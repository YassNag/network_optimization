{
 "cells": [
  {
   "cell_type": "markdown",
   "id": "9028e09c",
   "metadata": {},
   "source": [
    "#Show tables "
   ]
  },
  {
   "cell_type": "code",
   "execution_count": 26,
   "id": "074b9a05",
   "metadata": {},
   "outputs": [
    {
     "name": "stdout",
     "output_type": "stream",
     "text": [
      "\\begin{tabular}{r|ccccccccc}\n",
      "\t& Bib & Inst & Var & Const & DomConst & CoverI & Nodes & Gap & CPU\\\\\n",
      "\t\\hline\n",
      "\t& String & String & Int64 & Int64 & Int64 & Int64 & Int64 & Float64 & Float64\\\\\n",
      "\t\\hline\n",
      "\t1 & 367positions & scenario\\_1.dat & 133492 & 412602 & 15 & 33 & 7482 & 20.79 & 100.03 \\\\\n",
      "\\end{tabular}\n"
     ]
    },
    {
     "data": {
      "text/plain": [
       "14"
      ]
     },
     "execution_count": 26,
     "metadata": {},
     "output_type": "execute_result"
    }
   ],
   "source": [
    "using CSV\n",
    "using DataFrames\n",
    "df = DataFrame(CSV.File(\"Expes/674/Results/IntResults.csv\"))\n",
    "show(stdout, MIME(\"text/latex\"), df)"
   ]
  },
  {
   "cell_type": "code",
   "execution_count": 15,
   "id": "8d67eac1",
   "metadata": {},
   "outputs": [
    {
     "name": "stdout",
     "output_type": "stream",
     "text": [
      "\\begin{tabular}{r|ccccccccc}\n",
      "\t& Bib & Inst & Var & Const & DomConst & CoverI & Nodes & Gap & CPU\\\\\n",
      "\t\\hline\n",
      "\t& String & String & Int64 & Int64 & Int64 & Int64 & Int64 & Float64 & Float64\\\\\n",
      "\t\\hline\n",
      "\t1 & 70positions & scenario\\_1.dat & 84136 & 259329 & 0 & 0 & 188286 & 7.54 & 499.49 \\\\\n",
      "\t2 & 70positions & scenario\\_10.dat & 84136 & 259329 & 0 & 0 & 227335 & 10.36 & 560.1 \\\\\n",
      "\t3 & 70positions & scenario\\_11.dat & 84082 & 259167 & 0 & 0 & 178677 & 9.64 & 601.67 \\\\\n",
      "\t4 & 70positions & scenario\\_12.dat & 84153 & 259380 & 0 & 0 & 535123 & 8.96 & 2091.0 \\\\\n",
      "\t5 & 70positions & scenario\\_13.dat & 84157 & 259392 & 0 & 0 & 189324 & 8.97 & 822.21 \\\\\n",
      "\t6 & 70positions & scenario\\_14.dat & 84109 & 259248 & 0 & 0 & 37656 & 8.31 & 167.02 \\\\\n",
      "\t7 & 70positions & scenario\\_15.dat & 84142 & 259347 & 0 & 0 & 221244 & 9.59 & 1026.96 \\\\\n",
      "\t8 & 70positions & scenario\\_16.dat & 84085 & 259176 & 0 & 0 & 20761 & 7.84 & 216.99 \\\\\n",
      "\t9 & 70positions & scenario\\_17.dat & 84099 & 259218 & 0 & 0 & 210858 & 8.74 & 1077.55 \\\\\n",
      "\t10 & 70positions & scenario\\_18.dat & 84080 & 259161 & 0 & 0 & 244580 & 10.57 & 1048.56 \\\\\n",
      "\t11 & 70positions & scenario\\_19.dat & 84127 & 259302 & 0 & 0 & 97677 & 8.83 & 624.14 \\\\\n",
      "\t12 & 70positions & scenario\\_2.dat & 84136 & 259329 & 0 & 0 & 144431 & 10.01 & 800.03 \\\\\n",
      "\t13 & 70positions & scenario\\_20.dat & 84107 & 259242 & 0 & 0 & 39951 & 8.36 & 250.04 \\\\\n",
      "\t14 & 70positions & scenario\\_3.dat & 84147 & 259362 & 0 & 0 & 37022 & 8.89 & 226.83 \\\\\n",
      "\t15 & 70positions & scenario\\_4.dat & 84079 & 259158 & 0 & 0 & 48359 & 8.22 & 225.95 \\\\\n",
      "\t16 & 70positions & scenario\\_5.dat & 84124 & 259293 & 0 & 0 & 131258 & 9.57 & 566.15 \\\\\n",
      "\t17 & 70positions & scenario\\_6.dat & 84115 & 259266 & 0 & 0 & 28411 & 9.65 & 182.64 \\\\\n",
      "\t18 & 70positions & scenario\\_7.dat & 84106 & 259239 & 0 & 0 & 97068 & 11.1 & 427.71 \\\\\n",
      "\t19 & 70positions & scenario\\_8.dat & 84118 & 259275 & 0 & 0 & 154798 & 8.77 & 1081.09 \\\\\n",
      "\t20 & 70positions & scenario\\_9.dat & 84114 & 259263 & 0 & 0 & 104759 & 11.19 & 447.86 \\\\\n",
      "\\end{tabular}\n"
     ]
    },
    {
     "data": {
      "text/plain": [
       "14"
      ]
     },
     "execution_count": 15,
     "metadata": {},
     "output_type": "execute_result"
    }
   ],
   "source": [
    "using CSV\n",
    "using DataFrames\n",
    "df = DataFrame(CSV.File(\"Expes/711/Results/results.csv\"))\n",
    "df1=select!(df, Not(:Obj))\n",
    "df2=select!(df1, Not(:Opt))\n",
    "show(stdout, MIME(\"text/latex\"), df1)"
   ]
  },
  {
   "cell_type": "code",
   "execution_count": 16,
   "id": "995db120",
   "metadata": {},
   "outputs": [
    {
     "data": {
      "text/plain": [
       "\"\\textbf{Average} & \\textbf{-} & \\textbf{-} & \\textbf{84117.6} & \\textbf{259273.8} & \\textbf{0.0} & \\textbf{0.0} & \\textbf{146878.9} & \\textbf{9.26} & \\textbf{647.2} \\\\ \""
      ]
     },
     "execution_count": 16,
     "metadata": {},
     "output_type": "execute_result"
    }
   ],
   "source": [
    "using Statistics\n",
    "avg=[try round(mean(c),digits=2)\n",
    "    catch \n",
    "        \"-\"\n",
    "    end \n",
    "    for c in eachcol(df)]\n",
    "ch=\"\\textbf{Average}\" *\" & \"\n",
    "for i in 1:length(avg)\n",
    "    if i!=length(avg)\n",
    "        ch=ch*\"\\textbf{\"*string(avg[i])*\"} & \"\n",
    "    else \n",
    "        ch=ch*\"\\textbf{\"*string(avg[i])*\"} \\\\ \"\n",
    "    end \n",
    "end \n",
    "ch"
   ]
  },
  {
   "cell_type": "code",
   "execution_count": 23,
   "id": "bf042050",
   "metadata": {},
   "outputs": [
    {
     "data": {
      "text/plain": [
       "\"1, 2, 3, 4, 5\""
      ]
     },
     "execution_count": 23,
     "metadata": {},
     "output_type": "execute_result"
    }
   ],
   "source": [
    "com"
   ]
  },
  {
   "cell_type": "code",
   "execution_count": 14,
   "id": "1c12c6c3",
   "metadata": {},
   "outputs": [
    {
     "data": {
      "text/plain": [
       "\"1\""
      ]
     },
     "execution_count": 14,
     "metadata": {},
     "output_type": "execute_result"
    }
   ],
   "source": [
    "string(1)"
   ]
  },
  {
   "cell_type": "code",
   "execution_count": null,
   "id": "97e74bc3",
   "metadata": {},
   "outputs": [],
   "source": []
  }
 ],
 "metadata": {
  "kernelspec": {
   "display_name": "Julia 1.6.1",
   "language": "julia",
   "name": "julia-1.6"
  },
  "language_info": {
   "file_extension": ".jl",
   "mimetype": "application/julia",
   "name": "julia",
   "version": "1.6.1"
  }
 },
 "nbformat": 4,
 "nbformat_minor": 5
}
