{
 "cells": [
  {
   "cell_type": "code",
   "execution_count": 3,
   "id": "8b7f73dd",
   "metadata": {},
   "outputs": [
    {
     "data": {
      "image/png": "[encoded data removed]",
      "text/plain": [
       "<Figure size 432x288 with 1 Axes>"
      ]
     },
     "metadata": {
      "needs_background": "light"
     },
     "output_type": "display_data"
    }
   ],
   "source": [
    "import matplotlib.pyplot as plt\n",
    "data=[\n",
    "[0, 0],\n",
    "[200, 0],\n",
    "[400, 0],\n",
    "[600, 0],\n",
    "[800, 0],\n",
    "[1000, 0],\n",
    "[0, 100],\n",
    "[200, 100],\n",
    "[400, 100],\n",
    "[500, 100],\n",
    "[600, 100],\n",
    "[800, 100],\n",
    "[1000, 100],\n",
    "[0, 200],\n",
    "[200, 200],\n",
    "[400, 200],\n",
    "[600, 200],\n",
    "[800, 200],\n",
    "[1000, 200],\n",
    "[0, 300],\n",
    "[200, 300],\n",
    "[400, 300],\n",
    "[600, 300],\n",
    "[800, 300],\n",
    "[1000, 300],\n",
    "[0, 400],\n",
    "[200, 400],\n",
    "[400, 400],\n",
    "[600, 400],\n",
    "[800, 400],\n",
    "[1000, 400],\n",
    "[0, 500],\n",
    "[200, 500],\n",
    "[400, 500],\n",
    "[600, 500],\n",
    "[800, 500],\n",
    "[1000, 500],\n",
    "[0, 600],\n",
    "[200, 600],\n",
    "[400, 600],\n",
    "[600, 600],\n",
    "[800, 600],\n",
    "[1000, 600],\n",
    "[0, 700],\n",
    "[200, 700],\n",
    "[400, 700],\n",
    "[600, 700],\n",
    "[800, 700],\n",
    "[1000, 700],\n",
    "[0, 800],\n",
    "[200, 800],\n",
    "[400, 800],\n",
    "[600, 800],\n",
    "[800, 800],\n",
    "[1000, 800],\n",
    "[0, 900],\n",
    "[200, 900],\n",
    "[400, 900],\n",
    "[600, 900],\n",
    "[800, 900],\n",
    "[1000, 900],\n",
    "[0, 1000],\n",
    "[200, 1000],\n",
    "[400, 1000],\n",
    "[600, 1000],\n",
    "[800, 1000],\n",
    "[1000, 1000],\n",
    "\n",
    "]\n",
    "\n",
    "x, y = zip(*data)\n",
    "plt.scatter(x, y)\n",
    "plt.show()\n"
   ]
  },
  {
   "cell_type": "code",
   "execution_count": null,
   "id": "e56671c0",
   "metadata": {},
   "outputs": [],
   "source": []
  }
 ],
 "metadata": {
  "kernelspec": {
   "display_name": "Python 3",
   "language": "python",
   "name": "python3"
  },
  "language_info": {
   "codemirror_mode": {
    "name": "ipython",
    "version": 3
   },
   "file_extension": ".py",
   "mimetype": "text/x-python",
   "name": "python",
   "nbconvert_exporter": "python",
   "pygments_lexer": "ipython3",
   "version": "3.8.8"
  }
 },
 "nbformat": 4,
 "nbformat_minor": 5
}
