{
 "cells": [
  {
   "cell_type": "markdown",
   "id": "9028e09c",
   "metadata": {},
   "source": [
    "#Show tables "
   ]
  },
  {
   "cell_type": "code",
   "execution_count": 1,
   "id": "074b9a05",
   "metadata": {},
   "outputs": [
    {
     "name": "stdout",
     "output_type": "stream",
     "text": [
      "\\begin{tabular}{r|ccccccccccc}\n",
      "\t& Bib & Inst & Var & Const & DomConst & CoverI & Nodes & Gap & CPU & Obj & Opt\\\\\n",
      "\t\\hline\n",
      "\t& String & String & Int64 & Int64 & Int64 & Int64 & Int64 & Float64 & Float64 & Float64 & String\\\\\n",
      "\t\\hline\n",
      "\t1 & 367positions & scenario\\_1.dat & 2708 & 5090 & 0 & 0 & 66524 & 6.68 & 52.4 & 569.0 & yes \\\\\n",
      "\t2 & 367positions & scenario\\_10.dat & 2741 & 5121 & 0 & 0 & 55866 & 16.47 & 85.5 & 519.0 & yes \\\\\n",
      "\t3 & 367positions & scenario\\_2.dat & 2728 & 5082 & 0 & 0 & 341265 & 14.17 & 262.04 & 525.0 & yes \\\\\n",
      "\t4 & 367positions & scenario\\_3.dat & 2689 & 4948 & 0 & 0 & 404704 & 12.34 & 178.46 & 535.0 & yes \\\\\n",
      "\t5 & 367positions & scenario\\_4.dat & 2695 & 5085 & 0 & 0 & 41765 & 19.35 & 56.13 & 509.0 & yes \\\\\n",
      "\t6 & 367positions & scenario\\_5.dat & 2744 & 5113 & 0 & 0 & 100348 & 13.84 & 48.12 & 571.0 & yes \\\\\n",
      "\t7 & 367positions & scenario\\_6.dat & 2710 & 5028 & 0 & 0 & 580802 & 14.33 & 381.43 & 527.0 & yes \\\\\n",
      "\t8 & 367positions & scenario\\_7.dat & 2693 & 5113 & 0 & 0 & 248734 & 11.11 & 127.17 & 531.0 & yes \\\\\n",
      "\t9 & 367positions & scenario\\_8.dat & 2708 & 5090 & 0 & 0 & 245423 & 7.4 & 101.05 & 561.0 & yes \\\\\n",
      "\t10 & 367positions & scenario\\_9.dat & 2671 & 5064 & 0 & 0 & 39840 & 9.61 & 20.93 & 524.0 & yes \\\\\n",
      "\\end{tabular}\n"
     ]
    },
    {
     "data": {
      "text/plain": [
       "14"
      ]
     },
     "execution_count": 1,
     "metadata": {},
     "output_type": "execute_result"
    }
   ],
   "source": [
    "using CSV\n",
    "using DataFrames\n",
    "df = DataFrame(CSV.File(\"Expes/670/Results/results.csv\"))\n",
    "show(stdout, MIME(\"text/latex\"), df)"
   ]
  },
  {
   "cell_type": "code",
   "execution_count": 71,
   "id": "995db120",
   "metadata": {},
   "outputs": [
    {
     "data": {
      "text/plain": [
       "\"\\textbf{Average} & \\textbf{-} & \\textbf{-} & \\textbf{46292.45} & \\textbf{142776.65} & \\textbf{1.45} & \\textbf{0.0} & \\textbf{0.0} & \\textbf{278.68} & \\textbf{17.25} \\\\ \""
      ]
     },
     "execution_count": 71,
     "metadata": {},
     "output_type": "execute_result"
    }
   ],
   "source": [
    "using Statistics\n",
    "avg=[try round(mean(c),digits=2)\n",
    "    catch \n",
    "        \"-\"\n",
    "    end \n",
    "    for c in eachcol(df)]\n",
    "ch=\"\\textbf{Average}\" *\" & \"\n",
    "for i in 1:length(avg)\n",
    "    if i!=length(avg)\n",
    "        ch=ch*\"\\textbf{\"*string(avg[i])*\"} & \"\n",
    "    else \n",
    "        ch=ch*\"\\textbf{\"*string(avg[i])*\"} \\\\ \"\n",
    "    end \n",
    "end \n",
    "ch"
   ]
  },
  {
   "cell_type": "code",
   "execution_count": 1,
   "id": "bf042050",
   "metadata": {},
   "outputs": [
    {
     "ename": "LoadError",
     "evalue": "ArgumentError: Package matplotlib not found in current path:\n- Run `import Pkg; Pkg.add(\"matplotlib\")` to install the matplotlib package.\n",
     "output_type": "error",
     "traceback": [
      "ArgumentError: Package matplotlib not found in current path:\n- Run `import Pkg; Pkg.add(\"matplotlib\")` to install the matplotlib package.\n",
      "",
      "Stacktrace:",
      " [1] require(into::Module, mod::Symbol)",
      "   @ Base ./loading.jl:871",
      " [2] eval",
      "   @ ./boot.jl:360 [inlined]",
      " [3] include_string(mapexpr::typeof(REPL.softscope), mod::Module, code::String, filename::String)",
      "   @ Base ./loading.jl:1094"
     ]
    }
   ],
   "source": []
  },
  {
   "cell_type": "code",
   "execution_count": null,
   "id": "1c12c6c3",
   "metadata": {},
   "outputs": [],
   "source": []
  }
 ],
 "metadata": {
  "kernelspec": {
   "display_name": "Julia 1.6.1",
   "language": "julia",
   "name": "julia-1.6"
  },
  "language_info": {
   "file_extension": ".jl",
   "mimetype": "application/julia",
   "name": "julia",
   "version": "1.6.1"
  }
 },
 "nbformat": 4,
 "nbformat_minor": 5
}
